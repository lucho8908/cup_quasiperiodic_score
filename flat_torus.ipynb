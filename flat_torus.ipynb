{
 "cells": [
  {
   "cell_type": "code",
   "execution_count": 1,
   "metadata": {},
   "outputs": [],
   "source": [
    "import numpy as np\n",
    "import math\n",
    "import itertools\n",
    "import sys\n",
    "import matplotlib.pyplot as plt\n",
    "import copy\n",
    "\n",
    "from mpl_toolkits import mplot3d\n",
    "from ripser import ripser\n",
    "from persim import plot_diagrams\n",
    "from scipy.spatial import distance_matrix\n",
    "from scipy.spatial import distance\n",
    "\n",
    "%load_ext autoreload\n",
    "%autoreload 2\n",
    "import cup_quasi_periodic_detection as cqpd"
   ]
  },
  {
   "cell_type": "code",
   "execution_count": 2,
   "metadata": {},
   "outputs": [],
   "source": [
    "n = 2000\n",
    "\n",
    "np.random.seed(13)\n",
    "\n",
    "dm_X = cqpd.gen_flat_torus(n)\n",
    "\n",
    "# maxmin subsampling\n",
    "ind_L, cover_r = cqpd.maxmin(dm_X, 70)\n",
    "\n",
    "dm_L = dm_X[ind_L,:][:,ind_L]"
   ]
  },
  {
   "cell_type": "code",
   "execution_count": 3,
   "metadata": {},
   "outputs": [],
   "source": [
    "q = 2\n",
    "\n",
    "result = ripser(dm_L, coeff=q, distance_matrix=True, maxdim=2, do_cocycles=True)\n",
    "\n",
    "diagrams = result['dgms']\n",
    "cocycles = result['cocycles']"
   ]
  },
  {
   "cell_type": "code",
   "execution_count": 4,
   "metadata": {},
   "outputs": [
    {
     "data": {
      "image/png": "[encoded data removed]",
      "text/plain": [
       "<Figure size 432x288 with 1 Axes>"
      ]
     },
     "metadata": {
      "needs_background": "light"
     },
     "output_type": "display_data"
    }
   ],
   "source": [
    "plot_diagrams(diagrams) "
   ]
  },
  {
   "cell_type": "code",
   "execution_count": 5,
   "metadata": {},
   "outputs": [],
   "source": [
    "H_1 = cocycles[1]\n",
    "H_1_diagram = diagrams[1]\n",
    "H_1_persistence = H_1_diagram[:,1] - H_1_diagram[:,0]\n",
    "H_1_persistence_sort_ind = H_1_persistence.argsort()"
   ]
  },
  {
   "cell_type": "code",
   "execution_count": 6,
   "metadata": {},
   "outputs": [
    {
     "name": "stdout",
     "output_type": "stream",
     "text": [
      "[0.0011971  0.00307749 0.00535367 0.00650649 0.00862552 0.00876534\n",
      " 0.00897454 0.00983538 0.01049721 0.01196966 0.01236582 0.01363808\n",
      " 0.01512603 0.02016523 0.02048351 0.02143301 0.023154   0.02316199\n",
      " 0.02366647 0.02392904 0.02624187 0.02696349 0.02768628 0.02887934\n",
      " 0.02924652 0.02970806 0.02986673 0.02998647 0.03086366 0.03109041\n",
      " 0.03204536 0.032525   0.03348194 0.03363553 0.03486058 0.03658488\n",
      " 0.03904079 0.03931771 0.03945336 0.03964558 0.03969868 0.04070598\n",
      " 0.04105729 0.0419784  0.04208463 0.04211421 0.04221374 0.04267478\n",
      " 0.04598612 0.04639378 0.04765322 0.04824878 0.04887836 0.04902089\n",
      " 0.04980476 0.05153442 0.05282372 0.21947142 0.2221444 ]\n"
     ]
    }
   ],
   "source": [
    "print(H_1_persistence[H_1_persistence_sort_ind])"
   ]
  },
  {
   "cell_type": "code",
   "execution_count": 7,
   "metadata": {},
   "outputs": [],
   "source": [
    "H_2 = cocycles[2]\n",
    "H_2_diagram = diagrams[2]\n",
    "H_2_persistence = H_2_diagram[:,1] - H_2_diagram[:,0]\n",
    "H_2_persistence_sort_ind = H_2_persistence.argsort()"
   ]
  },
  {
   "cell_type": "code",
   "execution_count": 8,
   "metadata": {},
   "outputs": [
    {
     "name": "stdout",
     "output_type": "stream",
     "text": [
      "[[49  7  1]\n",
      " [53 21  1]\n",
      " [53  3  1]\n",
      " [50  9  1]\n",
      " [35 28  1]\n",
      " [35  1  1]\n",
      " [37  4  1]\n",
      " [33 29  1]\n",
      " [32 18  1]\n",
      " [40 18  1]\n",
      " [49 30  1]\n",
      " [33 15  1]\n",
      " [33 20  1]\n",
      " [34 30  1]\n",
      " [58 35  1]\n",
      " [50 20  1]\n",
      " [60 28  1]\n",
      " [36 33  1]\n",
      " [28 12  1]\n",
      " [59 53  1]\n",
      " [28  7  1]\n",
      " [63 49  1]\n",
      " [53 34  1]\n",
      " [37 33  1]\n",
      " [21  9  1]\n",
      " [18 10  1]\n",
      " [18  1  1]\n",
      " [20  4  1]\n",
      " [18  4  1]\n",
      " [53 50  1]\n",
      " [40 37  1]\n",
      " [35 32  1]\n",
      " [60 49  1]\n",
      " [29  4  1]\n",
      " [30  3  1]\n",
      " [56 33  1]\n",
      " [68 50  1]\n",
      " [30 13  1]\n",
      " [65 35  1]\n",
      " [65 18  1]\n",
      " [50 45  1]\n",
      " [30 21  1]\n",
      " [13  7  1]\n",
      " [53 47  1]\n",
      " [53 49  1]\n",
      " [66 30  1]\n",
      " [57 33  1]\n",
      " [ 9  4  1]\n",
      " [57 28  1]\n",
      " [58 12  1]\n",
      " [41 35  1]\n",
      " [28 18  1]\n",
      " [58 18  1]\n",
      " [68 21  1]\n",
      " [63 34  1]\n",
      " [34  7  1]\n",
      " [49 35  1]\n",
      " [53 40  1]\n",
      " [12  1  1]\n",
      " [68 49  1]\n",
      " [28 23  1]\n",
      " [37 32  1]\n",
      " [50 37  1]\n",
      " [63 28  1]\n",
      " [12  4  1]\n",
      " [40 35  1]\n",
      " [55 49  1]\n",
      " [ 9  3  1]\n",
      " [50 30  1]\n",
      " [30 28  1]\n",
      " [37 28  1]\n",
      " [38 18  1]\n",
      " [21 20  1]\n",
      " [15  4  1]\n",
      " [40  9  1]\n",
      " [35 13  1]\n",
      " [33  2  1]\n",
      " [33 16  1]\n",
      " [50 18  1]\n",
      " [53 26  1]\n",
      " [49 22  1]\n",
      " [21 18  1]\n",
      " [59 30  1]\n",
      " [25 18  1]\n",
      " [33 12  1]\n",
      " [36  4  1]\n",
      " [49 12  1]\n",
      " [59  9  1]\n",
      " [40 20  1]\n",
      " [42 33  1]\n",
      " [37  1  1]\n",
      " [60 58  1]\n",
      " [58  7  1]\n",
      " [33 18  1]\n",
      " [35  4  1]\n",
      " [37 10  1]\n",
      " [30 19  1]\n",
      " [63 13  1]\n",
      " [55 28  1]\n",
      " [53 19  1]\n",
      " [35 10  1]\n",
      " [69 53  1]\n",
      " [66 53  1]\n",
      " [53 10  1]\n",
      " [53 13  1]\n",
      " [57  4  1]\n",
      " [45 33  1]\n",
      " [60 13  1]\n",
      " [56 50  1]\n",
      " [47 30  1]\n",
      " [49 23  1]\n",
      " [50 22  1]\n",
      " [41 18  1]\n",
      " [34  9  1]\n",
      " [40 29  1]\n",
      " [33  9  1]\n",
      " [35 24  1]\n",
      " [56  4  1]\n",
      " [33  0  1]\n",
      " [68 34  1]\n",
      " [35 25  1]\n",
      " [63 50  1]\n",
      " [40 12  1]\n",
      " [49  9  1]\n",
      " [32 12  1]\n",
      " [68  3  1]\n",
      " [53  4  1]\n",
      " [45  4  1]\n",
      " [63  3  1]\n",
      " [45 21  1]\n",
      " [50  0  1]\n",
      " [59 18  1]\n",
      " [37 21  1]\n",
      " [66  7  1]\n",
      " [63 21  1]\n",
      " [50 29  1]\n",
      " [33 31  1]\n",
      " [50 15  1]\n",
      " [58 37  1]\n",
      " [67 49  1]\n",
      " [58 30  1]\n",
      " [29 28  1]\n",
      " [68  4  1]\n",
      " [13 12  1]\n",
      " [60  1  1]\n",
      " [57 49  1]\n",
      " [65 37  1]\n",
      " [61 30  1]\n",
      " [66 63  1]\n",
      " [68 59  1]\n",
      " [26 18  1]\n",
      " [22 21  1]\n",
      " [35 33  1]\n",
      " [38 35  1]\n",
      " [65 12  1]\n",
      " [28 22  1]\n",
      " [ 7  3  1]\n",
      " [60 34  1]\n",
      " [10  9  1]\n",
      " [66 35  1]\n",
      " [34 22  1]]\n"
     ]
    }
   ],
   "source": [
    "cocycle_1 = H_1[H_1_persistence_sort_ind[-1]]\n",
    "cocycle_2 = H_1[H_1_persistence_sort_ind[-2]]\n",
    "print(cocycle_1)"
   ]
  },
  {
   "cell_type": "code",
   "execution_count": 9,
   "metadata": {},
   "outputs": [
    {
     "name": "stdout",
     "output_type": "stream",
     "text": [
      "[[53, 21, 10, 1], [53, 21, 4, 1], [53, 21, 18, 1], [50, 9, 4, 1], [33, 29, 15, 1], [33, 29, 16, 1], [33, 29, 20, 1], [33, 15, 4, 1], [33, 15, 2, 1], [33, 20, 4, 1], [50, 20, 4, 1], [36, 33, 15, 1], [36, 33, 20, 1], [36, 33, 16, 1], [36, 33, 9, 1], [36, 33, 0, 1], [36, 33, 31, 1], [36, 33, 21, 1], [59, 53, 40, 1], [59, 53, 10, 1], [59, 53, 4, 1], [37, 33, 15, 1], [37, 33, 20, 1], [37, 33, 16, 1], [37, 33, 9, 1], [37, 33, 0, 1], [37, 33, 31, 1], [37, 33, 21, 1], [21, 9, 4, 1], [18, 10, 6, 1], [18, 10, 3, 1], [18, 10, 9, 1], [53, 50, 4, 1], [53, 50, 40, 1], [53, 50, 33, 1], [53, 50, 10, 1], [53, 50, 37, 1], [53, 50, 18, 1], [53, 50, 29, 1], [53, 50, 32, 1], [40, 37, 36, 1], [40, 37, 20, 1], [40, 37, 21, 1], [40, 37, 15, 1], [35, 32, 26, 1], [35, 32, 6, 1], [35, 32, 21, 1], [56, 33, 15, 1], [56, 33, 20, 1], [56, 33, 16, 1], [56, 33, 9, 1], [56, 33, 0, 1], [56, 33, 31, 1], [56, 33, 21, 1], [68, 50, 4, 1], [68, 50, 40, 1], [68, 50, 33, 1], [68, 50, 10, 1], [68, 50, 37, 1], [68, 50, 18, 1], [68, 50, 29, 1], [68, 50, 32, 1], [50, 45, 33, 1], [50, 45, 4, 1], [30, 21, 10, 1], [30, 21, 4, 1], [30, 21, 18, 1], [53, 47, 38, 1], [53, 47, 10, 1], [57, 33, 15, 1], [57, 33, 20, 1], [57, 33, 16, 1], [57, 33, 9, 1], [57, 33, 0, 1], [57, 33, 31, 1], [57, 33, 21, 1], [68, 21, 10, 1], [68, 21, 4, 1], [68, 21, 18, 1], [53, 40, 21, 1], [53, 40, 26, 1], [53, 40, 9, 1], [53, 40, 20, 1], [53, 40, 3, 1], [28, 23, 16, 1], [37, 32, 26, 1], [37, 32, 6, 1], [37, 32, 21, 1], [50, 37, 36, 1], [50, 37, 20, 1], [50, 37, 21, 1], [50, 37, 15, 1], [21, 20, 4, 1], [40, 9, 4, 1], [33, 16, 2, 1], [33, 16, 8, 1], [53, 26, 10, 1], [53, 26, 25, 1], [53, 26, 18, 1], [59, 9, 4, 1], [40, 20, 4, 1], [42, 33, 15, 1], [42, 33, 20, 1], [42, 33, 16, 1], [42, 33, 9, 1], [42, 33, 0, 1], [42, 33, 31, 1], [42, 33, 21, 1], [37, 10, 6, 1], [37, 10, 3, 1], [37, 10, 9, 1], [35, 10, 6, 1], [35, 10, 3, 1], [35, 10, 9, 1], [69, 53, 40, 1], [69, 53, 10, 1], [69, 53, 4, 1], [66, 53, 40, 1], [66, 53, 10, 1], [66, 53, 4, 1], [53, 10, 6, 1], [53, 10, 3, 1], [53, 10, 9, 1], [45, 33, 15, 1], [45, 33, 20, 1], [45, 33, 16, 1], [45, 33, 9, 1], [45, 33, 0, 1], [45, 33, 31, 1], [45, 33, 21, 1], [56, 50, 4, 1], [56, 50, 40, 1], [56, 50, 33, 1], [56, 50, 10, 1], [56, 50, 37, 1], [56, 50, 18, 1], [56, 50, 29, 1], [56, 50, 32, 1], [49, 23, 16, 1], [34, 9, 4, 1], [40, 29, 15, 1], [40, 29, 16, 1], [40, 29, 20, 1], [33, 9, 4, 1], [35, 25, 6, 1], [35, 25, 16, 1], [63, 50, 4, 1], [63, 50, 40, 1], [63, 50, 33, 1], [63, 50, 10, 1], [63, 50, 37, 1], [63, 50, 18, 1], [63, 50, 29, 1], [63, 50, 32, 1], [49, 9, 4, 1], [45, 21, 10, 1], [45, 21, 4, 1], [45, 21, 18, 1], [37, 21, 10, 1], [37, 21, 4, 1], [37, 21, 18, 1], [63, 21, 10, 1], [63, 21, 4, 1], [63, 21, 18, 1], [50, 29, 15, 1], [50, 29, 16, 1], [50, 29, 20, 1], [50, 15, 4, 1], [50, 15, 2, 1], [58, 37, 36, 1], [58, 37, 20, 1], [58, 37, 21, 1], [58, 37, 15, 1], [65, 37, 36, 1], [65, 37, 20, 1], [65, 37, 21, 1], [65, 37, 15, 1], [68, 59, 10, 1], [68, 59, 40, 1], [68, 59, 38, 1], [68, 59, 32, 1], [68, 59, 4, 1], [68, 59, 18, 1], [68, 59, 25, 1], [22, 21, 10, 1], [22, 21, 4, 1], [22, 21, 18, 1], [35, 33, 15, 1], [35, 33, 20, 1], [35, 33, 16, 1], [35, 33, 9, 1], [35, 33, 0, 1], [35, 33, 31, 1], [35, 33, 21, 1], [10, 9, 4, 1]]\n"
     ]
    }
   ],
   "source": [
    "cup = cqpd.cup_product_cochains(cocycle_1, cocycle_2, q)\n",
    "\n",
    "print(cup)"
   ]
  },
  {
   "cell_type": "code",
   "execution_count": null,
   "metadata": {},
   "outputs": [],
   "source": []
  },
  {
   "cell_type": "code",
   "execution_count": 10,
   "metadata": {},
   "outputs": [],
   "source": [
    "rips_com, orders, diameters = cqpd.rips_complex(dm_L, 0.5)"
   ]
  },
  {
   "cell_type": "code",
   "execution_count": 11,
   "metadata": {},
   "outputs": [],
   "source": [
    "d0 = cqpd.delta_0(rips_com['0'], rips_com['1'])\n",
    "d1 = cqpd.delta_1(rips_com['1'], rips_com['2'])"
   ]
  },
  {
   "cell_type": "code",
   "execution_count": 12,
   "metadata": {},
   "outputs": [],
   "source": [
    "R1, V1, low = cqpd.matrix_reduction(d1)"
   ]
  },
  {
   "cell_type": "code",
   "execution_count": 13,
   "metadata": {},
   "outputs": [],
   "source": [
    "cochain = np.zeros(rips_com['2'].shape[0])\n",
    "\n",
    "cup = np.array(cup)\n",
    "\n",
    "for i in range(len(cup)):\n",
    "    simplex = cup[i,2::-1]\n",
    "    \n",
    "    j = np.where((rips_com['2'] == simplex).all(axis=1))\n",
    "    \n",
    "    cochain[j] = cup[i,3]\n",
    "    \n",
    "cochain = cochain[::-1]"
   ]
  },
  {
   "cell_type": "code",
   "execution_count": 14,
   "metadata": {},
   "outputs": [],
   "source": [
    "y, index = cqpd.backwards_substitution(R1, low, cochain)"
   ]
  },
  {
   "cell_type": "code",
   "execution_count": 15,
   "metadata": {},
   "outputs": [
    {
     "data": {
      "text/plain": [
       "(array([0., 0., 0., ..., 0., 0., 0.]), 24679)"
      ]
     },
     "execution_count": 15,
     "metadata": {},
     "output_type": "execute_result"
    }
   ],
   "source": [
    "y, index"
   ]
  },
  {
   "cell_type": "code",
   "execution_count": 16,
   "metadata": {},
   "outputs": [
    {
     "data": {
      "text/plain": [
       "247"
      ]
     },
     "execution_count": 16,
     "metadata": {},
     "output_type": "execute_result"
    }
   ],
   "source": [
    "len(rips_com['2'])-index-1"
   ]
  },
  {
   "cell_type": "code",
   "execution_count": 17,
   "metadata": {},
   "outputs": [
    {
     "name": "stdout",
     "output_type": "stream",
     "text": [
      "[11 17 52]\n"
     ]
    }
   ],
   "source": [
    "ind_goal = rips_com['2'][len(rips_com['2'])-index-1]\n",
    "print(ind_goal)"
   ]
  },
  {
   "cell_type": "code",
   "execution_count": 18,
   "metadata": {},
   "outputs": [
    {
     "data": {
      "text/plain": [
       "array([[0.        , 0.11507418, 0.13639518],\n",
       "       [0.11507418, 0.        , 0.18801606],\n",
       "       [0.13639518, 0.18801606, 0.        ]])"
      ]
     },
     "execution_count": 18,
     "metadata": {},
     "output_type": "execute_result"
    }
   ],
   "source": [
    "dm_L[np.ix_(ind_goal[::-1],ind_goal[::-1])]"
   ]
  },
  {
   "cell_type": "code",
   "execution_count": 19,
   "metadata": {},
   "outputs": [
    {
     "data": {
      "text/plain": [
       "array([[22, 63, 68],\n",
       "       [19, 61, 66],\n",
       "       [27, 48, 64],\n",
       "       ...,\n",
       "       [29, 38, 59],\n",
       "       [29, 38, 62],\n",
       "       [29, 38, 65]])"
      ]
     },
     "execution_count": 19,
     "metadata": {},
     "output_type": "execute_result"
    }
   ],
   "source": [
    "rips_com['2']"
   ]
  },
  {
   "cell_type": "code",
   "execution_count": 20,
   "metadata": {},
   "outputs": [
    {
     "name": "stdout",
     "output_type": "stream",
     "text": [
      "[[0.         0.09759283 0.08487622]\n",
      " [0.09759283 0.         0.09934108]\n",
      " [0.08487622 0.09934108 0.        ]]\n",
      "[[0.         0.10499735 0.08587942]\n",
      " [0.10499735 0.         0.08699239]\n",
      " [0.08587942 0.08699239 0.        ]]\n",
      "[[0.         0.1144729  0.09195033]\n",
      " [0.1144729  0.         0.09229814]\n",
      " [0.09195033 0.09229814 0.        ]]\n",
      "[[0.         0.49971572 0.44757712]\n",
      " [0.49971572 0.         0.18911507]\n",
      " [0.44757712 0.18911507 0.        ]]\n"
     ]
    }
   ],
   "source": [
    "print(dm_L[np.ix_(rips_com['2'][0], rips_com['2'][0])])\n",
    "print(dm_L[np.ix_(rips_com['2'][1], rips_com['2'][1])])\n",
    "print(dm_L[np.ix_(rips_com['2'][2], rips_com['2'][2])])\n",
    "\n",
    "print(dm_L[np.ix_(rips_com['2'][-1], rips_com['2'][-1])])"
   ]
  },
  {
   "cell_type": "code",
   "execution_count": 21,
   "metadata": {},
   "outputs": [
    {
     "name": "stdout",
     "output_type": "stream",
     "text": [
      "[[0.         0.41311672]\n",
      " [0.41311672 0.        ]]\n",
      "[[0.         0.69851295]\n",
      " [0.69851295 0.        ]]\n",
      "[[0.         0.39408997]\n",
      " [0.39408997 0.        ]]\n",
      "[[0.         0.34759379]\n",
      " [0.34759379 0.        ]]\n"
     ]
    }
   ],
   "source": [
    "print(dm_X[np.ix_(rips_com['1'][0], rips_com['1'][0])])\n",
    "print(dm_X[np.ix_(rips_com['1'][1], rips_com['1'][1])])\n",
    "print(dm_X[np.ix_(rips_com['1'][2], rips_com['1'][2])])\n",
    "\n",
    "print(dm_X[np.ix_(rips_com['1'][-1], rips_com['1'][-1])])"
   ]
  },
  {
   "cell_type": "code",
   "execution_count": 22,
   "metadata": {},
   "outputs": [
    {
     "data": {
      "text/plain": [
       "array([0.09934108, 0.10499735, 0.1144729 , ..., 0.49971572, 0.49971572,\n",
       "       0.49971572])"
      ]
     },
     "execution_count": 22,
     "metadata": {},
     "output_type": "execute_result"
    }
   ],
   "source": [
    "diameters['2']"
   ]
  },
  {
   "cell_type": "code",
   "execution_count": 23,
   "metadata": {},
   "outputs": [
    {
     "data": {
      "text/plain": [
       "array([[22, 63, 68],\n",
       "       [19, 61, 66],\n",
       "       [27, 48, 64],\n",
       "       ...,\n",
       "       [29, 38, 59],\n",
       "       [29, 38, 62],\n",
       "       [29, 38, 65]])"
      ]
     },
     "execution_count": 23,
     "metadata": {},
     "output_type": "execute_result"
    }
   ],
   "source": [
    "rips_com['2']"
   ]
  },
  {
   "cell_type": "code",
   "execution_count": 24,
   "metadata": {},
   "outputs": [
    {
     "data": {
      "text/plain": [
       "[<matplotlib.lines.Line2D at 0x7fdb3fc5d390>]"
      ]
     },
     "execution_count": 24,
     "metadata": {},
     "output_type": "execute_result"
    },
    {
     "data": {
      "image/png": "[encoded data removed]",
      "text/plain": [
       "<Figure size 640x480 with 1 Axes>"
      ]
     },
     "metadata": {},
     "output_type": "display_data"
    }
   ],
   "source": [
    "plt.plot(diameters['2'])"
   ]
  },
  {
   "cell_type": "code",
   "execution_count": 25,
   "metadata": {},
   "outputs": [
    {
     "data": {
      "text/plain": [
       "[<matplotlib.lines.Line2D at 0x7fdb3fce0810>]"
      ]
     },
     "execution_count": 25,
     "metadata": {},
     "output_type": "execute_result"
    },
    {
     "data": {
      "image/png": "[encoded data removed]",
      "text/plain": [
       "<Figure size 640x480 with 1 Axes>"
      ]
     },
     "metadata": {},
     "output_type": "display_data"
    }
   ],
   "source": [
    "plt.plot(diameters['1'])"
   ]
  },
  {
   "cell_type": "code",
   "execution_count": 26,
   "metadata": {},
   "outputs": [
    {
     "name": "stdout",
     "output_type": "stream",
     "text": [
      "[0.11819866 0.34034306]\n",
      "[0.12758005 0.34705147]\n"
     ]
    }
   ],
   "source": [
    "print(H_1_diagram[H_1_persistence_sort_ind[-1]])\n",
    "print(H_1_diagram[H_1_persistence_sort_ind[-2]])"
   ]
  },
  {
   "cell_type": "code",
   "execution_count": 27,
   "metadata": {},
   "outputs": [
    {
     "name": "stdout",
     "output_type": "stream",
     "text": [
      "[0.18801606 0.38783476]\n"
     ]
    }
   ],
   "source": [
    "print(H_2_diagram[H_2_persistence_sort_ind[-1]])"
   ]
  },
  {
   "cell_type": "code",
   "execution_count": 28,
   "metadata": {},
   "outputs": [
    {
     "data": {
      "text/plain": [
       "array([[0.38311818, 0.38926804],\n",
       "       [0.38196743, 0.39229152],\n",
       "       [0.37819403, 0.38090539],\n",
       "       [0.37758386, 0.38530943],\n",
       "       [0.37566057, 0.38412398],\n",
       "       [0.375599  , 0.37611818],\n",
       "       [0.37379059, 0.3827548 ],\n",
       "       [0.37360081, 0.381843  ],\n",
       "       [0.37359932, 0.38356498],\n",
       "       [0.37296101, 0.3817935 ],\n",
       "       [0.37280715, 0.3837719 ],\n",
       "       [0.37232128, 0.37397575],\n",
       "       [0.37126979, 0.38667166],\n",
       "       [0.37124857, 0.38030142],\n",
       "       [0.37097508, 0.3837719 ],\n",
       "       [0.36979955, 0.37906849],\n",
       "       [0.36913401, 0.37309587],\n",
       "       [0.36872393, 0.38085091],\n",
       "       [0.36704236, 0.38211313],\n",
       "       [0.36567348, 0.37108788],\n",
       "       [0.36559227, 0.38372499],\n",
       "       [0.36552978, 0.38490412],\n",
       "       [0.36280605, 0.38446268],\n",
       "       [0.34692538, 0.37870076],\n",
       "       [0.18801606, 0.38783476]])"
      ]
     },
     "execution_count": 28,
     "metadata": {},
     "output_type": "execute_result"
    }
   ],
   "source": [
    "H_2_diagram"
   ]
  },
  {
   "cell_type": "code",
   "execution_count": 29,
   "metadata": {},
   "outputs": [
    {
     "data": {
      "text/plain": [
       "array([[22, 63, 68],\n",
       "       [19, 61, 66],\n",
       "       [27, 48, 64],\n",
       "       ...,\n",
       "       [29, 38, 59],\n",
       "       [29, 38, 62],\n",
       "       [29, 38, 65]])"
      ]
     },
     "execution_count": 29,
     "metadata": {},
     "output_type": "execute_result"
    }
   ],
   "source": [
    "rips_com['2']"
   ]
  },
  {
   "cell_type": "code",
   "execution_count": 30,
   "metadata": {},
   "outputs": [
    {
     "data": {
      "text/plain": [
       "0.1880160636709554"
      ]
     },
     "execution_count": 30,
     "metadata": {},
     "output_type": "execute_result"
    }
   ],
   "source": [
    "death = np.max(dm_L[np.ix_(ind_goal[::-1],ind_goal[::-1])])"
   ]
  },
  {
   "cell_type": "code",
   "execution_count": 31,
   "metadata": {},
   "outputs": [
    {
     "data": {
      "text/plain": [
       "0.34034305810928345"
      ]
     },
     "execution_count": 31,
     "metadata": {},
     "output_type": "execute_result"
    }
   ],
   "source": [
    "H_1_diagram[H_1_persistence_sort_ind[-1]][1]"
   ]
  },
  {
   "cell_type": "code",
   "execution_count": 36,
   "metadata": {},
   "outputs": [],
   "source": [
    "birth = min(H_1_diagram[H_1_persistence_sort_ind[cocycle_1_ind]][1], H_1_diagram[H_1_persistence_sort_ind[cocycle_2_ind]][1])"
   ]
  },
  {
   "cell_type": "code",
   "execution_count": 106,
   "metadata": {},
   "outputs": [
    {
     "data": {
      "text/plain": [
       "(-0.03, 0.45229151606559753)"
      ]
     },
     "execution_count": 106,
     "metadata": {},
     "output_type": "execute_result"
    },
    {
     "data": {
      "image/png": "[encoded data removed]",
      "text/plain": [
       "<Figure size 640x480 with 1 Axes>"
      ]
     },
     "metadata": {},
     "output_type": "display_data"
    }
   ],
   "source": [
    "plt.scatter(diagrams[0][:,0], diagrams[0][:,1], label='H_0')\n",
    "plt.scatter(diagrams[1][:,0], diagrams[1][:,1], label='H_1')\n",
    "plt.scatter(diagrams[2][:,0], diagrams[2][:,1], label='H_2')\n",
    "\n",
    "plt.scatter([death], [birth], label ='Cup')\n",
    "\n",
    "chosen = diagrams[1][[H_1_persistence_sort_ind[-1], H_1_persistence_sort_ind[-2]],:]\n",
    "\n",
    "plt.scatter(chosen[:,0], chosen[:,1], label='Selected classes', facecolors='none', edgecolors='r')\n",
    "\n",
    "plt.legend(loc = 'lower right')\n",
    "\n",
    "pad = .03\n",
    "\n",
    "x_min = np.min([np.min(diagrams[0][:,0]), np.min(diagrams[1][:,0]), np.min(diagrams[2][:,0])])\n",
    "x_max = np.max([np.max(diagrams[0][:,0]), np.max(diagrams[1][:,0]), np.max(diagrams[2][:,0])])\n",
    "\n",
    "y_min = np.min([np.min(diagrams[0][:,1]), np.min(diagrams[1][:,1]), np.min(diagrams[2][:,1])])\n",
    "y_max = np.max([np.nanmax(diagrams[0][:,1][diagrams[0][:,1] != np.inf]), \n",
    "                np.nanmax(diagrams[1][:,1][diagrams[1][:,1] != np.inf]), \n",
    "                np.nanmax(diagrams[2][:,1][diagrams[2][:,1] != np.inf])])\n",
    "\n",
    "plt.plot(np.linspace(x_min - pad, x_max + 2*pad), np.linspace(x_min - pad, x_max + 2*pad), '--', c='black')\n",
    "plt.hlines(y_max + pad, x_min - pad, x_max + 2*pad, linestyles='--')\n",
    "\n",
    "plt.xlim(x_min - pad, x_max + 2*pad)\n",
    "plt.ylim(0 - pad, y_max + 2*pad)"
   ]
  },
  {
   "cell_type": "code",
   "execution_count": 40,
   "metadata": {},
   "outputs": [
    {
     "data": {
      "text/plain": [
       "array([[0.16753867, 0.17404516],\n",
       "       [0.15500678, 0.15620388],\n",
       "       [0.15356393, 0.17672592],\n",
       "       [0.15002529, 0.15899983],\n",
       "       [0.14922684, 0.16286492],\n",
       "       [0.14880216, 0.1689674 ],\n",
       "       [0.14868473, 0.16065438],\n",
       "       [0.14646076, 0.16158679],\n",
       "       [0.14462027, 0.15338561],\n",
       "       [0.14268489, 0.17473026],\n",
       "       [0.1426826 , 0.15317981],\n",
       "       [0.14213187, 0.16606091],\n",
       "       [0.14150749, 0.15013301],\n",
       "       [0.14145184, 0.1676937 ],\n",
       "       [0.13990258, 0.1735381 ],\n",
       "       [0.13720629, 0.14028378],\n",
       "       [0.13715191, 0.16483819],\n",
       "       [0.13707682, 0.15756033],\n",
       "       [0.13698845, 0.1666965 ],\n",
       "       [0.13643757, 0.16642404],\n",
       "       [0.13639519, 0.16335867],\n",
       "       [0.13548508, 0.16436443],\n",
       "       [0.13348418, 0.16457459],\n",
       "       [0.13342486, 0.14579068],\n",
       "       [0.1327748 , 0.17247348],\n",
       "       [0.13238275, 0.17344004],\n",
       "       [0.13149193, 0.17370567],\n",
       "       [0.13140976, 0.17086312],\n",
       "       [0.13109839, 0.1732126 ],\n",
       "       [0.13093369, 0.18073845],\n",
       "       [0.13057548, 0.17696926],\n",
       "       [0.13056102, 0.17958191],\n",
       "       [0.13029808, 0.17227648],\n",
       "       [0.12991822, 0.17200285],\n",
       "       [0.12927945, 0.16276139],\n",
       "       [0.12879434, 0.17478046],\n",
       "       [0.12830514, 0.18112886],\n",
       "       [0.12818511, 0.17085989],\n",
       "       [0.12758367, 0.15844733],\n",
       "       [0.12758005, 0.34705147],\n",
       "       [0.12736018, 0.13271385],\n",
       "       [0.1272987 , 0.14873171],\n",
       "       [0.12673321, 0.165774  ],\n",
       "       [0.12662561, 0.16594332],\n",
       "       [0.12650549, 0.15017197],\n",
       "       [0.1260104 , 0.15853541],\n",
       "       [0.12585223, 0.16243711],\n",
       "       [0.12379283, 0.17204161],\n",
       "       [0.12376516, 0.15363188],\n",
       "       [0.12344342, 0.14659742],\n",
       "       [0.12319058, 0.16389656],\n",
       "       [0.12269552, 0.1623411 ],\n",
       "       [0.12243503, 0.15168154],\n",
       "       [0.1203335 , 0.17186792],\n",
       "       [0.11819866, 0.34034306],\n",
       "       [0.11818123, 0.12801661],\n",
       "       [0.1146116 , 0.16348997],\n",
       "       [0.11206115, 0.15971437],\n",
       "       [0.1119069 , 0.14676748]])"
      ]
     },
     "execution_count": 40,
     "metadata": {},
     "output_type": "execute_result"
    }
   ],
   "source": [
    "H_1_diagram"
   ]
  },
  {
   "cell_type": "code",
   "execution_count": null,
   "metadata": {},
   "outputs": [],
   "source": []
  }
 ],
 "metadata": {
  "kernelspec": {
   "display_name": "Python 3",
   "language": "python",
   "name": "python3"
  },
  "language_info": {
   "codemirror_mode": {
    "name": "ipython",
    "version": 3
   },
   "file_extension": ".py",
   "mimetype": "text/x-python",
   "name": "python",
   "nbconvert_exporter": "python",
   "pygments_lexer": "ipython3",
   "version": "3.7.7"
  }
 },
 "nbformat": 4,
 "nbformat_minor": 4
}
